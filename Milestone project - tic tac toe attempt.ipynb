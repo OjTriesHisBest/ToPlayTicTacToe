{
 "cells": [
  {
   "cell_type": "markdown",
   "metadata": {},
   "source": [
    "Creating the tic tac toe game. \n",
    "\n",
    "\n",
    "Actions\n",
    "* Display a board \n",
    "* Allow and verify user input\n",
    "* Replace user input with an X or O \n",
    "* Ask if user wants to replay or end\n",
    "\n",
    "Notes:\n",
    "* Display board after every turn \n",
    "* Make sure while loops end when the correct condition is entered \n"
   ]
  },
  {
   "cell_type": "code",
   "execution_count": 19,
   "metadata": {},
   "outputs": [],
   "source": [
    "#Print rules and instructions at the beginning of the game \n",
    "\n",
    "def rules():\n",
    "    print(\"\"\"Welcome to Tic Tac Toe! \n",
    "    \n",
    "Here's how to play: \n",
    "    1. Pick a number to replace on the board. It will be replaced with X or O - depending on what you were assigned.\n",
    "    2. Normal tic tac toe rules apply.\n",
    "    3. You will be able to replay the game at the end.\"\"\")"
   ]
  },
  {
   "cell_type": "code",
   "execution_count": 20,
   "metadata": {},
   "outputs": [],
   "source": [
    "#rules()"
   ]
  },
  {
   "cell_type": "code",
   "execution_count": 21,
   "metadata": {},
   "outputs": [],
   "source": [
    "#Displays the lists required to create a board\n",
    "\n",
    "from IPython.display import clear_output\n",
    "\n",
    "board = list(range(0,10))\n",
    "\n",
    "def display_board(board): \n",
    "    clear_output()\n",
    "    print(' ' + str(board[1]) + ' | ' + str(board[2]) + ' | ' + str(board[3]))\n",
    "    print(\"----------\")\n",
    "    print(' ' + str(board[4]) + ' | ' + str(board[5]) + ' | ' + str(board[6]))\n",
    "    print(\"----------\")\n",
    "    print(' ' + str(board[7]) + ' | ' + str(board[8]) + ' | ' + str(board[9]))"
   ]
  },
  {
   "cell_type": "code",
   "execution_count": 22,
   "metadata": {},
   "outputs": [],
   "source": [
    "test = [0, 1, 2, 3, 4, 5, 6, 7, 8, 9]"
   ]
  },
  {
   "cell_type": "code",
   "execution_count": 23,
   "metadata": {},
   "outputs": [
    {
     "name": "stdout",
     "output_type": "stream",
     "text": [
      "[1, 2, 3, 4, 5, 6, 7, 8, 9]\n"
     ]
    }
   ],
   "source": [
    "print(list(range(1,10)))"
   ]
  },
  {
   "cell_type": "code",
   "execution_count": 24,
   "metadata": {},
   "outputs": [],
   "source": [
    "#display_board(test)"
   ]
  },
  {
   "cell_type": "code",
   "execution_count": 25,
   "metadata": {},
   "outputs": [],
   "source": [
    "#Asks the player to enter a number between 1 and 9. Then returns that number as an integer.\n",
    "def player_input():\n",
    "    user_choice = 'not digit' #this the original value - not an integer.\n",
    "    \n",
    "    #accepted = list(range(1,10))\n",
    "    \n",
    "    while user_choice.isdigit() == False: #while the choice isn't a digit and not in the range, keep asking for an input. \n",
    "        user_choice = int(input(\"Please pick a number you would like to replace (1 - 9): \"))\n",
    "        if user_choice not in board: \n",
    "            print(\"Sorry that is not a valid. Please enter a number between 1 and 9:\")\n",
    "            user_choice = 'False'\n",
    "        else:\n",
    "            return user_choice\n",
    "    return int(user_choice)"
   ]
  },
  {
   "cell_type": "code",
   "execution_count": 27,
   "metadata": {},
   "outputs": [],
   "source": [
    "#Asks the player if they'd like to be X or O\n",
    "def player_marker():\n",
    "    m = \"\"\n",
    "    while not m == ((m =='X' or m == 'O')):\n",
    "        m = input(\"Would you like to be X or O?\").upper()\n",
    " \n",
    "    #this then determines the order they will go in.      \n",
    "        if m == \"X\":\n",
    "            return (\"X\", \"O\")\n",
    "        else: \n",
    "            return (\"O\", \"X\")"
   ]
  },
  {
   "cell_type": "code",
   "execution_count": 28,
   "metadata": {},
   "outputs": [],
   "source": [
    "#REPLACEMENT FUNCTION - should take the number chosen in the board, replace it with an X or O\n",
    "def replacement(board, m, position):\n",
    "    board[position] = m #Takes the board at position selected and replaces it with the marker the user has chosen"
   ]
  },
  {
   "cell_type": "code",
   "execution_count": 29,
   "metadata": {},
   "outputs": [],
   "source": [
    "#replacement(test,\"X\",3)\n",
    "#display_board(test)"
   ]
  },
  {
   "cell_type": "code",
   "execution_count": 30,
   "metadata": {},
   "outputs": [],
   "source": [
    "#display_board(test)"
   ]
  },
  {
   "cell_type": "code",
   "execution_count": 31,
   "metadata": {},
   "outputs": [],
   "source": [
    "#win function\n",
    "\n",
    "def win_check(board, m): #checks the board for m in a row of 3.\n",
    "    return ((board[1] == m and board[2] == m and board[3] == m) #top\n",
    "        or (board[4] == m and board[5] == m and board[6] == m) #middle\n",
    "        or (board[7] == m and board[8] == m and board[9] == m) #bottom\n",
    "        or (board[1] == m and board[4] == m and board[7] == m) #col1\n",
    "        or (board[2] == m and board[5] == m and board[8] == m) #col2\n",
    "        or (board[3] == m and board[6] == m and board[9] == m) #col3\n",
    "        or (board[1] == m and board[5] == m and board[9] == m)) #diagonal\n",
    "    "
   ]
  },
  {
   "cell_type": "code",
   "execution_count": 50,
   "metadata": {},
   "outputs": [
    {
     "ename": "SyntaxError",
     "evalue": "'return' outside function (<ipython-input-50-cb3236b2fb42>, line 16)",
     "output_type": "error",
     "traceback": [
      "\u001b[1;36m  File \u001b[1;32m\"<ipython-input-50-cb3236b2fb42>\"\u001b[1;36m, line \u001b[1;32m16\u001b[0m\n\u001b[1;33m    return True\u001b[0m\n\u001b[1;37m               ^\u001b[0m\n\u001b[1;31mSyntaxError\u001b[0m\u001b[1;31m:\u001b[0m 'return' outside function\n"
     ]
    }
   ],
   "source": [
    "#checks if there is a space on the board.\n",
    "#Doesn't work\n",
    "\n",
    "def space_on_board(board):\n",
    "    List1 = list(range(1,10))\n",
    "    List2 = board\n",
    "    space_is_true = any(x in List1 for x in List2)\n",
    " \n",
    "    if space_is_true == True:\n",
    "        print(\"The board is not full\")\n",
    "        return True #if 1 - 9 appears on the board\n",
    "    else:\n",
    "        print(\"The board is full - the game is a draw\")\n",
    "        return False #if 1 - 9 doesn't appear on the board\n",
    "\n",
    "return True\n"
   ]
  },
  {
   "cell_type": "code",
   "execution_count": 33,
   "metadata": {},
   "outputs": [
    {
     "name": "stdout",
     "output_type": "stream",
     "text": [
      "The board is not full\n"
     ]
    },
    {
     "data": {
      "text/plain": [
       "True"
      ]
     },
     "execution_count": 33,
     "metadata": {},
     "output_type": "execute_result"
    }
   ],
   "source": [
    "full_board = [\"X\", \"O\",\"X\", \"O\",\"X\", \"O\",\"X\", \"O\", \"X\"]\n",
    "space = [1, 2, 3, 4, 5, 6, 7, 8, \"X\"]\n",
    "\n",
    "space_on_board(space)"
   ]
  },
  {
   "cell_type": "code",
   "execution_count": 36,
   "metadata": {},
   "outputs": [],
   "source": [
    "#space_on_board(test2)"
   ]
  },
  {
   "cell_type": "code",
   "execution_count": 42,
   "metadata": {},
   "outputs": [],
   "source": [
    "#Trash function\n",
    "\n",
    "def space_free(board, position): #To check if the position chosen is free\n",
    "    return board[position] == ' '"
   ]
  },
  {
   "cell_type": "code",
   "execution_count": 43,
   "metadata": {},
   "outputs": [],
   "source": [
    "#Doesn't work\n",
    "\n",
    "def full_board_check(board):\n",
    "    for i in range(1,10):\n",
    "        if space_free(board, i):\n",
    "            return False\n",
    "    return True"
   ]
  },
  {
   "cell_type": "code",
   "execution_count": 39,
   "metadata": {},
   "outputs": [],
   "source": [
    "# Chooses who goes first \n",
    "import random \n",
    "\n",
    "def choose_first():\n",
    "    if random.randint(0,1) == 0:\n",
    "        return \"Player 1\"\n",
    "    else:\n",
    "        return \"Player 2\""
   ]
  },
  {
   "cell_type": "code",
   "execution_count": 40,
   "metadata": {},
   "outputs": [],
   "source": [
    "#Asks the player if they want to replay the game. Returns a True if they do \n",
    "def replay():\n",
    "    return input(\"Would you like to play again? Enter 'Yes' or 'No' \").lower().startswith('y')"
   ]
  },
  {
   "cell_type": "code",
   "execution_count": 51,
   "metadata": {},
   "outputs": [
    {
     "name": "stdout",
     "output_type": "stream",
     "text": [
      " X | O | X\n",
      "----------\n",
      " O | O | X\n",
      "----------\n",
      " X | X | O\n",
      "The game is a draw!\n"
     ]
    },
    {
     "name": "stdin",
     "output_type": "stream",
     "text": [
      "Would you like to play again? Enter 'Yes' or 'No'  n\n"
     ]
    }
   ],
   "source": [
    "#The whole game put together... \n",
    "\n",
    "rules()\n",
    "\n",
    "while True: \n",
    "    #setting up the game\n",
    "    board = list(range(0,10))\n",
    "    marker_1, marker_2 = player_marker()\n",
    "    display_board(board)\n",
    "    turn = choose_first()\n",
    "    print(turn + \" will go first!\")\n",
    "    \n",
    "    play_game = input(\"Would you like to begin? Enter yes or no\")\n",
    "    \n",
    "    if play_game.lower()[0] == \"y\": #Why not \"yes\"? Because people can enter \"yes \" which breaks the code. \n",
    "        game_con = True\n",
    "    else:\n",
    "        game_con = False\n",
    "    \n",
    "    while game_con: #while it is true\n",
    "        if turn == \"Player 1\": #Player 1's turn \n",
    "            print(\"Player 1's turn. Please place an \" + marker_1)\n",
    "            display_board(board) #shows the board\n",
    "            position = player_input() #asked for their position. It should be part of the board (if it isn't , they'll be asked again)\n",
    "            replacement(board, marker_1, position) #if the above is true, then it takes the position and replaces it on the board \n",
    "            if win_check(board, marker_1) == True:\n",
    "                display_board(board)\n",
    "                print(\"Congrats! Player 1 won!\")\n",
    "                game_con = False\n",
    "            else: #To check if it's a draw\n",
    "                if space_on_board(board) == False: #if the board is full\n",
    "                    display_board(board)\n",
    "                    print(\"The game is a draw!\")\n",
    "                    break\n",
    "                else:\n",
    "                    turn = 'Player 2'\n",
    "                    \n",
    "        else:\n",
    "            if turn == \"Player 2\": #Player 2's turn \n",
    "                print(\"Player 2's turn. Please place an \" + marker_2)\n",
    "                display_board(board) #shows the board\n",
    "                position = player_input() #asked for their position. It should be part of the board (if it isn't , they'll be asked again)\n",
    "                replacement(board, marker_2, position) #if the above is true, then it takes the position and replaces it on the board \n",
    "                if win_check(board, marker_2) == True:\n",
    "                    display_board(board)\n",
    "                    print(\"Congrats! Player 2 won!\")\n",
    "                    game_con = False\n",
    "                else: #To check if it's a draw\n",
    "                    if space_on_board(board) == False: #if the board is full\n",
    "                        display_board(board)\n",
    "                        print(\"The game is a draw!\")\n",
    "                        break\n",
    "                    else:\n",
    "                        turn = 'Player 1'\n",
    "                       \n",
    "    if not replay(): #asking if they want to replay the game if \"game_con\" isn't true\n",
    "        break"
   ]
  },
  {
   "cell_type": "code",
   "execution_count": null,
   "metadata": {},
   "outputs": [],
   "source": []
  },
  {
   "cell_type": "code",
   "execution_count": null,
   "metadata": {},
   "outputs": [],
   "source": []
  }
 ],
 "metadata": {
  "kernelspec": {
   "display_name": "Python 3",
   "language": "python",
   "name": "python3"
  },
  "language_info": {
   "codemirror_mode": {
    "name": "ipython",
    "version": 3
   },
   "file_extension": ".py",
   "mimetype": "text/x-python",
   "name": "python",
   "nbconvert_exporter": "python",
   "pygments_lexer": "ipython3",
   "version": "3.7.3"
  }
 },
 "nbformat": 4,
 "nbformat_minor": 2
}
